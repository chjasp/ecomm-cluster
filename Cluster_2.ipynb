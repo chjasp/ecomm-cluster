{
 "cells": [
  {
   "cell_type": "code",
   "execution_count": 142,
   "metadata": {},
   "outputs": [],
   "source": [
    "import numpy as np\n",
    "from numpy.linalg import norm\n",
    "import pickle\n",
    "from tqdm import tqdm, tqdm_notebook\n",
    "import os\n",
    "import time\n",
    "from tensorflow.keras.preprocessing import image\n",
    "from tensorflow.keras.applications.vgg16 import VGG16, preprocess_input"
   ]
  },
  {
   "cell_type": "code",
   "execution_count": 143,
   "metadata": {},
   "outputs": [],
   "source": [
    "new_shape = (136, 102, 3)"
   ]
  },
  {
   "cell_type": "code",
   "execution_count": 144,
   "metadata": {},
   "outputs": [],
   "source": [
    "model = VGG16(weights='imagenet', input_shape=new_shape, include_top=False)"
   ]
  },
  {
   "cell_type": "code",
   "execution_count": 13,
   "metadata": {},
   "outputs": [
    {
     "name": "stdout",
     "output_type": "stream",
     "text": [
      "Model: \"vgg16\"\n",
      "_________________________________________________________________\n",
      "Layer (type)                 Output Shape              Param #   \n",
      "=================================================================\n",
      "input_4 (InputLayer)         [(None, 136, 102, 3)]     0         \n",
      "_________________________________________________________________\n",
      "block1_conv1 (Conv2D)        (None, 136, 102, 64)      1792      \n",
      "_________________________________________________________________\n",
      "block1_conv2 (Conv2D)        (None, 136, 102, 64)      36928     \n",
      "_________________________________________________________________\n",
      "block1_pool (MaxPooling2D)   (None, 68, 51, 64)        0         \n",
      "_________________________________________________________________\n",
      "block2_conv1 (Conv2D)        (None, 68, 51, 128)       73856     \n",
      "_________________________________________________________________\n",
      "block2_conv2 (Conv2D)        (None, 68, 51, 128)       147584    \n",
      "_________________________________________________________________\n",
      "block2_pool (MaxPooling2D)   (None, 34, 25, 128)       0         \n",
      "_________________________________________________________________\n",
      "block3_conv1 (Conv2D)        (None, 34, 25, 256)       295168    \n",
      "_________________________________________________________________\n",
      "block3_conv2 (Conv2D)        (None, 34, 25, 256)       590080    \n",
      "_________________________________________________________________\n",
      "block3_conv3 (Conv2D)        (None, 34, 25, 256)       590080    \n",
      "_________________________________________________________________\n",
      "block3_pool (MaxPooling2D)   (None, 17, 12, 256)       0         \n",
      "_________________________________________________________________\n",
      "block4_conv1 (Conv2D)        (None, 17, 12, 512)       1180160   \n",
      "_________________________________________________________________\n",
      "block4_conv2 (Conv2D)        (None, 17, 12, 512)       2359808   \n",
      "_________________________________________________________________\n",
      "block4_conv3 (Conv2D)        (None, 17, 12, 512)       2359808   \n",
      "_________________________________________________________________\n",
      "block4_pool (MaxPooling2D)   (None, 8, 6, 512)         0         \n",
      "_________________________________________________________________\n",
      "block5_conv1 (Conv2D)        (None, 8, 6, 512)         2359808   \n",
      "_________________________________________________________________\n",
      "block5_conv2 (Conv2D)        (None, 8, 6, 512)         2359808   \n",
      "_________________________________________________________________\n",
      "block5_conv3 (Conv2D)        (None, 8, 6, 512)         2359808   \n",
      "_________________________________________________________________\n",
      "block5_pool (MaxPooling2D)   (None, 4, 3, 512)         0         \n",
      "=================================================================\n",
      "Total params: 14,714,688\n",
      "Trainable params: 14,714,688\n",
      "Non-trainable params: 0\n",
      "_________________________________________________________________\n"
     ]
    }
   ],
   "source": [
    "model.summary()"
   ]
  },
  {
   "cell_type": "code",
   "execution_count": 138,
   "metadata": {},
   "outputs": [],
   "source": [
    "def extract_features(img_path, model):\n",
    "    input_shape = (136, 102, 3)\n",
    "    img = image.load_img(img_path,\n",
    "                         target_size=(input_shape[0], input_shape[1]))\n",
    "    img_array = image.img_to_array(img)\n",
    "    expanded_img_array = np.expand_dims(img_array, axis=0)\n",
    "    preprocessed_img = preprocess_input(expanded_img_array)\n",
    "    features = model.predict(preprocessed_img)\n",
    "    flattened_features = features.flatten()\n",
    "    normalized_features = flattened_features / norm(flattened_features)\n",
    "    return normalized_features"
   ]
  },
  {
   "cell_type": "code",
   "execution_count": 15,
   "metadata": {},
   "outputs": [],
   "source": [
    "extensions = ['.jpg', '.JPG', '.jpeg', '.JPEG', '.png', '.PNG']\n",
    "\n",
    "def get_file_list(root_dir):\n",
    "    file_list = []\n",
    "    for root, directories, filenames in os.walk(root_dir):\n",
    "        for filename in filenames:\n",
    "            if any(ext in filename for ext in extensions):\n",
    "                filepath = os.path.join(root, filename)\n",
    "                if os.path.exists(filepath):\n",
    "                  file_list.append(filepath)\n",
    "                else:\n",
    "                  print(filepath)\n",
    "    return file_list"
   ]
  },
  {
   "cell_type": "code",
   "execution_count": 32,
   "metadata": {},
   "outputs": [
    {
     "name": "stdout",
     "output_type": "stream",
     "text": [
      "12856\n"
     ]
    }
   ],
   "source": [
    "root_dir = \"/home/christoph/Desktop/zappos-ds\"\n",
    "filenames = sorted(get_file_list(root_dir))\n",
    "print(len(filenames))"
   ]
  },
  {
   "cell_type": "code",
   "execution_count": 33,
   "metadata": {},
   "outputs": [
    {
     "name": "stderr",
     "output_type": "stream",
     "text": [
      "/home/christoph/anaconda3/lib/python3.7/site-packages/ipykernel_launcher.py:2: TqdmDeprecationWarning: This function will be removed in tqdm==5.0.0\n",
      "Please use `tqdm.notebook.tqdm` instead of `tqdm.tqdm_notebook`\n",
      "  \n"
     ]
    },
    {
     "data": {
      "application/vnd.jupyter.widget-view+json": {
       "model_id": "74f3369ad31a42f4ab008ffeb0e31d76",
       "version_major": 2,
       "version_minor": 0
      },
      "text/plain": [
       "HBox(children=(FloatProgress(value=0.0, max=12856.0), HTML(value='')))"
      ]
     },
     "metadata": {},
     "output_type": "display_data"
    },
    {
     "name": "stdout",
     "output_type": "stream",
     "text": [
      "\n"
     ]
    }
   ],
   "source": [
    "feature_list = []\n",
    "for i in tqdm_notebook(range(len(filenames))):\n",
    "    feature_list.append(extract_features(filenames[i], model))"
   ]
  },
  {
   "cell_type": "code",
   "execution_count": 34,
   "metadata": {},
   "outputs": [],
   "source": [
    "pickle.dump(filenames, open('/home/christoph/Desktop/filenames-caltech101.pickle', 'wb'))\n",
    "pickle.dump(feature_list, open('/home/christoph/Desktop/features-caltech101-resnet.pickle', 'wb'))"
   ]
  },
  {
   "cell_type": "markdown",
   "metadata": {},
   "source": [
    "## Visualization"
   ]
  },
  {
   "cell_type": "code",
   "execution_count": 10,
   "metadata": {},
   "outputs": [],
   "source": [
    "import numpy as np\n",
    "import pickle\n",
    "from tqdm import tqdm, tqdm_notebook\n",
    "import random\n",
    "import time\n",
    "from sklearn.manifold import TSNE\n",
    "from sklearn.decomposition import PCA\n",
    "import PIL\n",
    "from PIL import Image\n",
    "from sklearn.neighbors import NearestNeighbors\n",
    "\n",
    "import glob\n",
    "import matplotlib\n",
    "import matplotlib.pyplot as plt\n",
    "import matplotlib.image as mpimg\n",
    "%matplotlib inline"
   ]
  },
  {
   "cell_type": "code",
   "execution_count": 11,
   "metadata": {},
   "outputs": [],
   "source": [
    "filenames = pickle.load(open('/home/christoph/Desktop/filenames-caltech101.pickle', 'rb'))\n",
    "feature_list = pickle.load(open('/home/christoph/Desktop/features-caltech101-resnet.pickle',\n",
    "                                'rb'))"
   ]
  },
  {
   "cell_type": "code",
   "execution_count": 12,
   "metadata": {},
   "outputs": [
    {
     "name": "stdout",
     "output_type": "stream",
     "text": [
      "Number of images =  12856\n",
      "Number of features per image =  6144\n"
     ]
    }
   ],
   "source": [
    "num_images = len(filenames)\n",
    "num_features_per_image = len(feature_list[0])\n",
    "print(\"Number of images = \", num_images)\n",
    "print(\"Number of features per image = \", num_features_per_image)"
   ]
  },
  {
   "cell_type": "code",
   "execution_count": 13,
   "metadata": {},
   "outputs": [
    {
     "data": {
      "text/plain": [
       "12856"
      ]
     },
     "execution_count": 13,
     "metadata": {},
     "output_type": "execute_result"
    }
   ],
   "source": [
    "len(feature_list)"
   ]
  },
  {
   "cell_type": "code",
   "execution_count": 14,
   "metadata": {},
   "outputs": [],
   "source": [
    "num_feature_dimensions = 100\n",
    "pca = PCA(n_components=num_feature_dimensions)\n",
    "pca.fit(feature_list)\n",
    "feature_list_compressed = pca.transform(feature_list)"
   ]
  },
  {
   "cell_type": "code",
   "execution_count": 15,
   "metadata": {},
   "outputs": [],
   "source": [
    "pickle.dump(feature_list_compressed, open('/home/christoph/Desktop/flCompressed.pickle', 'wb'))"
   ]
  },
  {
   "cell_type": "code",
   "execution_count": 16,
   "metadata": {},
   "outputs": [
    {
     "data": {
      "text/plain": [
       "[(1, 2), (4, 5)]"
      ]
     },
     "execution_count": 16,
     "metadata": {},
     "output_type": "execute_result"
    }
   ],
   "source": [
    "[(1,2), (4,5)]"
   ]
  },
  {
   "cell_type": "code",
   "execution_count": 25,
   "metadata": {},
   "outputs": [],
   "source": [
    "def slicing(slices):\n",
    "    sel_feat = np.empty([0,100])\n",
    "    sel_file = []\n",
    "    for idx, (start, end) in enumerate(slices):\n",
    "        sel_feat = np.append(sel_feat, feature_list_compressed[start:end], axis=0)\n",
    "        sel_file = sel_file + filenames[start:end]\n",
    "        \n",
    "    return sel_feat, sel_file"
   ]
  },
  {
   "cell_type": "code",
   "execution_count": 129,
   "metadata": {},
   "outputs": [
    {
     "name": "stdout",
     "output_type": "stream",
     "text": [
      "[t-SNE] Computing 4 nearest neighbors...\n",
      "[t-SNE] Indexed 5 samples in 0.000s...\n",
      "[t-SNE] Computed neighbors for 5 samples in 0.000s...\n",
      "[t-SNE] Computed conditional probabilities for sample 5 / 5\n",
      "[t-SNE] Mean sigma: 1125899906842624.000000\n",
      "[t-SNE] KL divergence after 250 iterations with early exaggeration: 48.346184\n",
      "[t-SNE] Error after 1000 iterations: 0.110419\n",
      "t-SNE done! Time elapsed: 0.11268091201782227 seconds\n"
     ]
    }
   ],
   "source": [
    "slices = [(500,510), \n",
    "          (1000,1010), \n",
    "          (1500, 1510), \n",
    "          (2000, 2010), \n",
    "          (2500, 2510), \n",
    "          (3000, 3010), \n",
    "          (3500, 3510), \n",
    "          (4000, 4010),\n",
    "          (4500, 4510),\n",
    "          (5000, 5010)]\n",
    "# selected_features, selected_filenames = slicing(slices)\n",
    "\n",
    "time_start = time.time()\n",
    "tsne_results = TSNE(n_components=2, verbose=1,\n",
    "                    metric='euclidean').fit_transform(new_feats)\n",
    "print('t-SNE done! Time elapsed: {} seconds'.format(time.time() - time_start))"
   ]
  },
  {
   "cell_type": "code",
   "execution_count": 121,
   "metadata": {},
   "outputs": [
    {
     "name": "stdout",
     "output_type": "stream",
     "text": [
      "4\n",
      "5\n",
      "81\n",
      "95\n",
      "96\n"
     ]
    }
   ],
   "source": [
    "for i, fn in enumerate(selected_filenames):\n",
    "    if fn in crazy:\n",
    "        print(i)"
   ]
  },
  {
   "cell_type": "code",
   "execution_count": 123,
   "metadata": {},
   "outputs": [],
   "source": [
    "inds = [4,5,81,95,96]"
   ]
  },
  {
   "cell_type": "code",
   "execution_count": 128,
   "metadata": {},
   "outputs": [],
   "source": [
    "new_feats = [selected_features[i] for i in inds]"
   ]
  },
  {
   "cell_type": "code",
   "execution_count": 130,
   "metadata": {},
   "outputs": [],
   "source": [
    "new_fns = crazy"
   ]
  },
  {
   "cell_type": "code",
   "execution_count": 34,
   "metadata": {},
   "outputs": [],
   "source": [
    "def tsne_to_grid_plotter_manual(x, y, selected_filenames):\n",
    "    print(x.shape)\n",
    "    print(y.shape)\n",
    "    S = 2000\n",
    "    s = 100\n",
    "    x = (x - min(x)) / (max(x) - min(x))\n",
    "    y = (y - min(y)) / (max(y) - min(y))\n",
    "    x_values = []\n",
    "    y_values = []\n",
    "    filename_plot = []\n",
    "    x_y_dict = {}\n",
    "    print(len(selected_filenames))\n",
    "    for i, image_path in enumerate(selected_filenames):\n",
    "        a = np.ceil(x[i] * (S - s))\n",
    "        b = np.ceil(y[i] * (S - s))\n",
    "        a = int(a - np.mod(a, s))\n",
    "        b = int(b - np.mod(b, s))\n",
    "        if str(a) + \"|\" + str(b) in x_y_dict:\n",
    "            continue\n",
    "        x_y_dict[str(a) + \"|\" + str(b)] = 1\n",
    "        x_values.append(a)\n",
    "        y_values.append(b)\n",
    "        filename_plot.append(image_path)\n",
    "    fig, axis = plt.subplots()\n",
    "    fig.set_size_inches(22, 22, forward=True)\n",
    "    plot_images_in_2d(x_values, y_values, filename_plot, zoom=.58, axis=axis)\n",
    "    plt.show()\n",
    "    return (x_values, y_values, filename_plot)"
   ]
  },
  {
   "cell_type": "code",
   "execution_count": 36,
   "metadata": {},
   "outputs": [],
   "source": [
    "from matplotlib.offsetbox import OffsetImage, AnnotationBbox\n",
    "from matplotlib.cbook import get_sample_data\n",
    "\n",
    "\n",
    "def plot_images_in_2d(x, y, image_paths, axis=None, zoom=1):\n",
    "    if axis is None:\n",
    "        axis = plt.gca()\n",
    "    x, y = np.atleast_1d(x, y)\n",
    "    for x0, y0, image_path in zip(x, y, image_paths):\n",
    "        image = Image.open(image_path)\n",
    "        image.thumbnail((100, 100), Image.ANTIALIAS)\n",
    "        img = OffsetImage(image, zoom=zoom)\n",
    "        anno_box = AnnotationBbox(img, (x0, y0),\n",
    "                                  xycoords='data',\n",
    "                                  frameon=False)\n",
    "        axis.add_artist(anno_box)\n",
    "    axis.update_datalim(np.column_stack([x, y]))\n",
    "    axis.autoscale()"
   ]
  },
  {
   "cell_type": "code",
   "execution_count": null,
   "metadata": {},
   "outputs": [],
   "source": [
    "3 4"
   ]
  },
  {
   "cell_type": "code",
   "execution_count": 132,
   "metadata": {
    "scrolled": true
   },
   "outputs": [
    {
     "name": "stdout",
     "output_type": "stream",
     "text": [
      "(5,)\n",
      "(5,)\n",
      "5\n"
     ]
    },
    {
     "data": {
      "image/png": "[encoded data removed]",
      "text/plain": [
       "<Figure size 1584x1584 with 1 Axes>"
      ]
     },
     "metadata": {
      "needs_background": "light"
     },
     "output_type": "display_data"
    }
   ],
   "source": [
    "x, y, path = tsne_to_grid_plotter_manual(tsne_results[:, 0], tsne_results[:, 1],\n",
    "                            crazy)"
   ]
  },
  {
   "cell_type": "code",
   "execution_count": 133,
   "metadata": {},
   "outputs": [
    {
     "data": {
      "text/plain": [
       "[0, 1900, 800, 1200, 200]"
      ]
     },
     "execution_count": 133,
     "metadata": {},
     "output_type": "execute_result"
    }
   ],
   "source": [
    "x"
   ]
  },
  {
   "cell_type": "code",
   "execution_count": 134,
   "metadata": {},
   "outputs": [
    {
     "data": {
      "text/plain": [
       "[700, 500, 0, 1500, 1900]"
      ]
     },
     "execution_count": 134,
     "metadata": {},
     "output_type": "execute_result"
    }
   ],
   "source": [
    "y"
   ]
  },
  {
   "cell_type": "code",
   "execution_count": 135,
   "metadata": {},
   "outputs": [
    {
     "data": {
      "text/plain": [
       "{'/home/christoph/Desktop/zappos-ds/Amiana/8028479.372602.jpg': (10, 41),\n",
       " '/home/christoph/Desktop/zappos-ds/Morgan&Milo Kids/7849221.36297.jpg': (95,\n",
       "  32),\n",
       " '/home/christoph/Desktop/zappos-ds/New Balance/7837853.425096.jpg': (45, 10),\n",
       " '/home/christoph/Desktop/zappos-ds/New Balance/7837853.223736.jpg': (63, 77),\n",
       " '/home/christoph/Desktop/zappos-ds/Amiana/8028479.372601.jpg': (18, 95)}"
      ]
     },
     "execution_count": 135,
     "metadata": {},
     "output_type": "execute_result"
    }
   ],
   "source": [
    "dset = {}\n",
    "for idx, name in enumerate(crazy):\n",
    "    normed_x = int(((x[idx]*0.85)/1900)*100 + 10)\n",
    "    normed_y = int(((y[idx]*0.85)/1900)*100 + 10)\n",
    "    dset[name] = (normed_x, normed_y)\n",
    "dset"
   ]
  },
  {
   "cell_type": "code",
   "execution_count": 38,
   "metadata": {},
   "outputs": [
    {
     "data": {
      "text/plain": [
       "87"
      ]
     },
     "execution_count": 38,
     "metadata": {},
     "output_type": "execute_result"
    }
   ],
   "source": [
    "len(x)"
   ]
  },
  {
   "cell_type": "code",
   "execution_count": 39,
   "metadata": {},
   "outputs": [
    {
     "ename": "NameError",
     "evalue": "name 'get_file_list' is not defined",
     "output_type": "error",
     "traceback": [
      "\u001b[0;31m---------------------------------------------------------------------------\u001b[0m",
      "\u001b[0;31mNameError\u001b[0m                                 Traceback (most recent call last)",
      "\u001b[0;32m<ipython-input-39-1f261ea52a1b>\u001b[0m in \u001b[0;36m<module>\u001b[0;34m\u001b[0m\n\u001b[0;32m----> 1\u001b[0;31m \u001b[0mslist\u001b[0m \u001b[0;34m=\u001b[0m \u001b[0mget_file_list\u001b[0m\u001b[0;34m(\u001b[0m\u001b[0mshoes\u001b[0m\u001b[0;34m)\u001b[0m\u001b[0;34m\u001b[0m\u001b[0;34m\u001b[0m\u001b[0m\n\u001b[0m",
      "\u001b[0;31mNameError\u001b[0m: name 'get_file_list' is not defined"
     ]
    }
   ],
   "source": [
    "slist = get_file_list(shoes)"
   ]
  },
  {
   "cell_type": "code",
   "execution_count": 71,
   "metadata": {},
   "outputs": [
    {
     "data": {
      "text/plain": [
       "'/home/christoph/Desktop/zappos-ds/Shoes/Firstwalker/Lacoste Kids/7985137.7778.jpg'"
      ]
     },
     "execution_count": 71,
     "metadata": {},
     "output_type": "execute_result"
    }
   ],
   "source": [
    "slist[99]"
   ]
  },
  {
   "cell_type": "code",
   "execution_count": 42,
   "metadata": {
    "scrolled": true
   },
   "outputs": [
    {
     "data": {
      "text/plain": [
       "(87, 87, 87)"
      ]
     },
     "execution_count": 42,
     "metadata": {},
     "output_type": "execute_result"
    }
   ],
   "source": [
    "len(path), len(x), len(y)"
   ]
  },
  {
   "cell_type": "code",
   "execution_count": 43,
   "metadata": {},
   "outputs": [],
   "source": [
    "dset = {}\n",
    "for idx, name in enumerate(path):\n",
    "    normed_x = int(((x[idx]*0.85)/1900)*100 + 10)\n",
    "    normed_y = int(((y[idx]*0.85)/1900)*100 + 10)\n",
    "    dset[name] = (normed_x, normed_y)"
   ]
  },
  {
   "cell_type": "code",
   "execution_count": 44,
   "metadata": {},
   "outputs": [
    {
     "data": {
      "text/plain": [
       "87"
      ]
     },
     "execution_count": 44,
     "metadata": {},
     "output_type": "execute_result"
    }
   ],
   "source": [
    "len(dset)"
   ]
  },
  {
   "cell_type": "code",
   "execution_count": 45,
   "metadata": {},
   "outputs": [],
   "source": [
    "import json\n",
    "with open('/home/christoph/Desktop/shoes.json', 'w') as f:\n",
    "    json.dump(dset, f)"
   ]
  },
  {
   "cell_type": "code",
   "execution_count": null,
   "metadata": {},
   "outputs": [],
   "source": [
    "dset"
   ]
  },
  {
   "cell_type": "code",
   "execution_count": 117,
   "metadata": {},
   "outputs": [
    {
     "data": {
      "text/plain": [
       "{'/home/christoph/Desktop/zappos-ds/Amiana/8028444.162714.jpg': (68, 86),\n",
       " '/home/christoph/Desktop/zappos-ds/Amiana/8028463.27549.jpg': (59, 63),\n",
       " '/home/christoph/Desktop/zappos-ds/Amiana/8028463.65215.jpg': (86, 50),\n",
       " '/home/christoph/Desktop/zappos-ds/Amiana/8028479.372601.jpg': (68, 95),\n",
       " '/home/christoph/Desktop/zappos-ds/Amiana/8028479.372602.jpg': (63, 90),\n",
       " '/home/christoph/Desktop/zappos-ds/Anne Klein/7870005.80.jpg': (68, 45),\n",
       " '/home/christoph/Desktop/zappos-ds/Arcopedico/8029325.3.jpg': (72, 45),\n",
       " '/home/christoph/Desktop/zappos-ds/Arcopedico/8029325.585.jpg': (77, 54),\n",
       " '/home/christoph/Desktop/zappos-ds/Capezio Kids/7138760.14.jpg': (54, 59),\n",
       " '/home/christoph/Desktop/zappos-ds/Capezio Kids/7138760.21891.jpg': (50, 59),\n",
       " '/home/christoph/Desktop/zappos-ds/Capezio Kids/7138760.3.jpg': (41, 59),\n",
       " '/home/christoph/Desktop/zappos-ds/Capezio Kids/7140341.72.jpg': (45, 54),\n",
       " '/home/christoph/Desktop/zappos-ds/Capezio Kids/7567987.3.jpg': (45, 59),\n",
       " '/home/christoph/Desktop/zappos-ds/Capezio Kids/7568334.263.jpg': (59, 50),\n",
       " '/home/christoph/Desktop/zappos-ds/Capezio Kids/7568335.263.jpg': (59, 54),\n",
       " '/home/christoph/Desktop/zappos-ds/Capezio Kids/7568335.3.jpg': (54, 54),\n",
       " '/home/christoph/Desktop/zappos-ds/Capezio Kids/7634569.14.jpg': (50, 45),\n",
       " '/home/christoph/Desktop/zappos-ds/Creative Recreation Kids/7779512.183092.jpg': (63,\n",
       "  45),\n",
       " '/home/christoph/Desktop/zappos-ds/Creative Recreation Kids/7815628.20451.jpg': (72,\n",
       "  68),\n",
       " '/home/christoph/Desktop/zappos-ds/Creative Recreation Kids/7815628.243460.jpg': (77,\n",
       "  72),\n",
       " '/home/christoph/Desktop/zappos-ds/Creative Recreation Kids/7815628.314458.jpg': (72,\n",
       "  72),\n",
       " '/home/christoph/Desktop/zappos-ds/Creative Recreation Kids/7815628.328479.jpg': (36,\n",
       "  27),\n",
       " '/home/christoph/Desktop/zappos-ds/Creative Recreation Kids/7815628.394023.jpg': (68,\n",
       "  77),\n",
       " '/home/christoph/Desktop/zappos-ds/Creative Recreation Kids/7815628.395151.jpg': (63,\n",
       "  77),\n",
       " '/home/christoph/Desktop/zappos-ds/Creative Recreation Kids/7815633.159595.jpg': (86,\n",
       "  27),\n",
       " '/home/christoph/Desktop/zappos-ds/Creative Recreation Kids/7815633.18581.jpg': (86,\n",
       "  32),\n",
       " '/home/christoph/Desktop/zappos-ds/DVS Shoe Company/7992237.27372.jpg': (41,\n",
       "  23),\n",
       " '/home/christoph/Desktop/zappos-ds/DVS Shoe Company/7992237.3449.jpg': (50,\n",
       "  18),\n",
       " '/home/christoph/Desktop/zappos-ds/DVS Shoe Company/7992237.5211.jpg': (45,\n",
       "  14),\n",
       " '/home/christoph/Desktop/zappos-ds/DVS Shoe Company/7992237.84.jpg': (54, 23),\n",
       " '/home/christoph/Desktop/zappos-ds/DVS Shoe Company/7992264.84.jpg': (50, 27),\n",
       " '/home/christoph/Desktop/zappos-ds/DVS Shoe Company/7992284.27372.jpg': (54,\n",
       "  14),\n",
       " '/home/christoph/Desktop/zappos-ds/DVS Shoe Company/7992284.361427.jpg': (50,\n",
       "  14),\n",
       " '/home/christoph/Desktop/zappos-ds/DVS Shoe Company/7992284.84.jpg': (54, 18),\n",
       " '/home/christoph/Desktop/zappos-ds/DVS Shoe Company/7992299.361419.jpg': (68,\n",
       "  63),\n",
       " '/home/christoph/Desktop/zappos-ds/DVS Shoe Company/7992299.670.jpg': (54,\n",
       "  72),\n",
       " '/home/christoph/Desktop/zappos-ds/Emerica/7967796.20422.jpg': (81, 41),\n",
       " '/home/christoph/Desktop/zappos-ds/Emerica/7967796.7446.jpg': (95, 41),\n",
       " '/home/christoph/Desktop/zappos-ds/Emerica/8031118.373675.jpg': (90, 41),\n",
       " '/home/christoph/Desktop/zappos-ds/Emerica/8031118.373676.jpg': (77, 32),\n",
       " '/home/christoph/Desktop/zappos-ds/Emerica/8031118.373677.jpg': (68, 36),\n",
       " '/home/christoph/Desktop/zappos-ds/Emerica/8031118.393052.jpg': (72, 36),\n",
       " '/home/christoph/Desktop/zappos-ds/Emerica/8081348.155.jpg': (77, 36),\n",
       " '/home/christoph/Desktop/zappos-ds/Heelys/7724899.265759.jpg': (45, 45),\n",
       " '/home/christoph/Desktop/zappos-ds/Heelys/7769259.144.jpg': (10, 32),\n",
       " '/home/christoph/Desktop/zappos-ds/Heelys/7769259.155.jpg': (14, 23),\n",
       " '/home/christoph/Desktop/zappos-ds/Heelys/7769259.298003.jpg': (18, 27),\n",
       " '/home/christoph/Desktop/zappos-ds/Heelys/7769260.12913.jpg': (23, 27),\n",
       " '/home/christoph/Desktop/zappos-ds/Heelys/7769260.21196.jpg': (14, 27),\n",
       " '/home/christoph/Desktop/zappos-ds/Heelys/7769260.331000.jpg': (14, 32),\n",
       " '/home/christoph/Desktop/zappos-ds/Heelys/7769261.12913.jpg': (23, 32),\n",
       " '/home/christoph/Desktop/zappos-ds/Heelys/7769261.144.jpg': (10, 36),\n",
       " '/home/christoph/Desktop/zappos-ds/Heelys/7769261.2971.jpg': (23, 36),\n",
       " '/home/christoph/Desktop/zappos-ds/Keen/7804786.241510.jpg': (27, 81),\n",
       " '/home/christoph/Desktop/zappos-ds/Keen/7814492.123681.jpg': (18, 81),\n",
       " '/home/christoph/Desktop/zappos-ds/Keen/7814492.211289.jpg': (18, 77),\n",
       " '/home/christoph/Desktop/zappos-ds/Keen/7814492.298819.jpg': (27, 77),\n",
       " '/home/christoph/Desktop/zappos-ds/Keen/7814492.326309.jpg': (23, 77),\n",
       " '/home/christoph/Desktop/zappos-ds/Keen/7814492.356116.jpg': (23, 81),\n",
       " '/home/christoph/Desktop/zappos-ds/Keen/7892339.326491.jpg': (36, 77),\n",
       " '/home/christoph/Desktop/zappos-ds/Keen/7892339.326495.jpg': (36, 72),\n",
       " '/home/christoph/Desktop/zappos-ds/Keen/7892339.356050.jpg': (32, 81),\n",
       " '/home/christoph/Desktop/zappos-ds/Macbeth/7810900.297932.jpg': (63, 32),\n",
       " '/home/christoph/Desktop/zappos-ds/Macbeth/7810900.34184.jpg': (68, 59),\n",
       " '/home/christoph/Desktop/zappos-ds/Macbeth/7810900.358862.jpg': (50, 10),\n",
       " '/home/christoph/Desktop/zappos-ds/Macbeth/7810900.67905.jpg': (59, 32),\n",
       " '/home/christoph/Desktop/zappos-ds/Macbeth/7810901.297932.jpg': (59, 41),\n",
       " '/home/christoph/Desktop/zappos-ds/Macbeth/7810901.358802.jpg': (72, 23),\n",
       " '/home/christoph/Desktop/zappos-ds/Macbeth/7910295.332287.jpg': (59, 36),\n",
       " '/home/christoph/Desktop/zappos-ds/Macbeth/7984514.67905.jpg': (72, 18),\n",
       " '/home/christoph/Desktop/zappos-ds/Macbeth/7984573.390336.jpg': (27, 27),\n",
       " '/home/christoph/Desktop/zappos-ds/Macbeth/7984812.358861.jpg': (81, 23),\n",
       " '/home/christoph/Desktop/zappos-ds/Morgan&Milo Kids/7849198.36297.jpg': (50,\n",
       "  36),\n",
       " '/home/christoph/Desktop/zappos-ds/Morgan&Milo Kids/7849221.36297.jpg': (45,\n",
       "  36),\n",
       " '/home/christoph/Desktop/zappos-ds/Morgan&Milo Kids/7945480.12883.jpg': (36,\n",
       "  41),\n",
       " '/home/christoph/Desktop/zappos-ds/Morgan&Milo Kids/7945565.18510.jpg': (36,\n",
       "  32),\n",
       " '/home/christoph/Desktop/zappos-ds/Morgan&Milo Kids/8018558.168015.jpg': (32,\n",
       "  45),\n",
       " '/home/christoph/Desktop/zappos-ds/Morgan&Milo Kids/8018558.233857.jpg': (36,\n",
       "  45),\n",
       " '/home/christoph/Desktop/zappos-ds/Morgan&Milo Kids/8018591.168015.jpg': (54,\n",
       "  86),\n",
       " '/home/christoph/Desktop/zappos-ds/Morgan&Milo Kids/8018599.18510.jpg': (50,\n",
       "  81),\n",
       " '/home/christoph/Desktop/zappos-ds/New Balance/7837814.6.jpg': (32, 59),\n",
       " '/home/christoph/Desktop/zappos-ds/New Balance/7837838.1412.jpg': (14, 50),\n",
       " '/home/christoph/Desktop/zappos-ds/New Balance/7837838.755.jpg': (18, 50),\n",
       " '/home/christoph/Desktop/zappos-ds/New Balance/7837853.136479.jpg': (10, 27),\n",
       " '/home/christoph/Desktop/zappos-ds/New Balance/7837853.223736.jpg': (86, 63),\n",
       " '/home/christoph/Desktop/zappos-ds/New Balance/7837853.425096.jpg': (50, 68),\n",
       " '/home/christoph/Desktop/zappos-ds/New Balance/7844484.151.jpg': (27, 18)}"
      ]
     },
     "execution_count": 117,
     "metadata": {},
     "output_type": "execute_result"
    }
   ],
   "source": [
    "dset"
   ]
  },
  {
   "cell_type": "code",
   "execution_count": 46,
   "metadata": {},
   "outputs": [],
   "source": [
    "keys = list(dset.keys())"
   ]
  },
  {
   "cell_type": "code",
   "execution_count": 108,
   "metadata": {},
   "outputs": [
    {
     "data": {
      "text/plain": [
       "['/home/christoph/Desktop/zappos-ds/Amiana/8028444.162714.jpg',\n",
       " '/home/christoph/Desktop/zappos-ds/Amiana/8028463.27549.jpg',\n",
       " '/home/christoph/Desktop/zappos-ds/Amiana/8028463.65215.jpg',\n",
       " '/home/christoph/Desktop/zappos-ds/Amiana/8028479.372601.jpg',\n",
       " '/home/christoph/Desktop/zappos-ds/Amiana/8028479.372602.jpg',\n",
       " '/home/christoph/Desktop/zappos-ds/Anne Klein/7870005.80.jpg',\n",
       " '/home/christoph/Desktop/zappos-ds/Arcopedico/8029325.3.jpg',\n",
       " '/home/christoph/Desktop/zappos-ds/Arcopedico/8029325.585.jpg',\n",
       " '/home/christoph/Desktop/zappos-ds/Capezio Kids/7138760.14.jpg',\n",
       " '/home/christoph/Desktop/zappos-ds/Capezio Kids/7138760.21891.jpg',\n",
       " '/home/christoph/Desktop/zappos-ds/Capezio Kids/7138760.3.jpg',\n",
       " '/home/christoph/Desktop/zappos-ds/Capezio Kids/7140341.72.jpg',\n",
       " '/home/christoph/Desktop/zappos-ds/Capezio Kids/7567987.3.jpg',\n",
       " '/home/christoph/Desktop/zappos-ds/Capezio Kids/7568334.263.jpg',\n",
       " '/home/christoph/Desktop/zappos-ds/Capezio Kids/7568335.263.jpg',\n",
       " '/home/christoph/Desktop/zappos-ds/Capezio Kids/7568335.3.jpg',\n",
       " '/home/christoph/Desktop/zappos-ds/Capezio Kids/7634569.14.jpg',\n",
       " '/home/christoph/Desktop/zappos-ds/Creative Recreation Kids/7779512.183092.jpg',\n",
       " '/home/christoph/Desktop/zappos-ds/Creative Recreation Kids/7815628.20451.jpg',\n",
       " '/home/christoph/Desktop/zappos-ds/Creative Recreation Kids/7815628.243460.jpg',\n",
       " '/home/christoph/Desktop/zappos-ds/Creative Recreation Kids/7815628.314458.jpg',\n",
       " '/home/christoph/Desktop/zappos-ds/Creative Recreation Kids/7815628.328479.jpg',\n",
       " '/home/christoph/Desktop/zappos-ds/Creative Recreation Kids/7815628.394023.jpg',\n",
       " '/home/christoph/Desktop/zappos-ds/Creative Recreation Kids/7815628.395151.jpg',\n",
       " '/home/christoph/Desktop/zappos-ds/Creative Recreation Kids/7815633.159595.jpg',\n",
       " '/home/christoph/Desktop/zappos-ds/Creative Recreation Kids/7815633.18581.jpg',\n",
       " '/home/christoph/Desktop/zappos-ds/DVS Shoe Company/7992237.27372.jpg',\n",
       " '/home/christoph/Desktop/zappos-ds/DVS Shoe Company/7992237.3449.jpg',\n",
       " '/home/christoph/Desktop/zappos-ds/DVS Shoe Company/7992237.5211.jpg',\n",
       " '/home/christoph/Desktop/zappos-ds/DVS Shoe Company/7992237.84.jpg',\n",
       " '/home/christoph/Desktop/zappos-ds/DVS Shoe Company/7992264.84.jpg',\n",
       " '/home/christoph/Desktop/zappos-ds/DVS Shoe Company/7992284.27372.jpg',\n",
       " '/home/christoph/Desktop/zappos-ds/DVS Shoe Company/7992284.361427.jpg',\n",
       " '/home/christoph/Desktop/zappos-ds/DVS Shoe Company/7992284.84.jpg',\n",
       " '/home/christoph/Desktop/zappos-ds/DVS Shoe Company/7992299.361419.jpg',\n",
       " '/home/christoph/Desktop/zappos-ds/DVS Shoe Company/7992299.670.jpg',\n",
       " '/home/christoph/Desktop/zappos-ds/Emerica/7967796.20422.jpg',\n",
       " '/home/christoph/Desktop/zappos-ds/Emerica/7967796.7446.jpg',\n",
       " '/home/christoph/Desktop/zappos-ds/Emerica/8031118.373675.jpg',\n",
       " '/home/christoph/Desktop/zappos-ds/Emerica/8031118.373676.jpg',\n",
       " '/home/christoph/Desktop/zappos-ds/Emerica/8031118.373677.jpg',\n",
       " '/home/christoph/Desktop/zappos-ds/Emerica/8031118.393052.jpg',\n",
       " '/home/christoph/Desktop/zappos-ds/Emerica/8081348.155.jpg',\n",
       " '/home/christoph/Desktop/zappos-ds/Heelys/7724899.265759.jpg',\n",
       " '/home/christoph/Desktop/zappos-ds/Heelys/7769259.144.jpg',\n",
       " '/home/christoph/Desktop/zappos-ds/Heelys/7769259.155.jpg',\n",
       " '/home/christoph/Desktop/zappos-ds/Heelys/7769259.298003.jpg',\n",
       " '/home/christoph/Desktop/zappos-ds/Heelys/7769260.12913.jpg',\n",
       " '/home/christoph/Desktop/zappos-ds/Heelys/7769260.21196.jpg',\n",
       " '/home/christoph/Desktop/zappos-ds/Heelys/7769260.331000.jpg',\n",
       " '/home/christoph/Desktop/zappos-ds/Heelys/7769261.12913.jpg',\n",
       " '/home/christoph/Desktop/zappos-ds/Heelys/7769261.144.jpg',\n",
       " '/home/christoph/Desktop/zappos-ds/Heelys/7769261.2971.jpg',\n",
       " '/home/christoph/Desktop/zappos-ds/Keen/7804786.241510.jpg',\n",
       " '/home/christoph/Desktop/zappos-ds/Keen/7814492.123681.jpg',\n",
       " '/home/christoph/Desktop/zappos-ds/Keen/7814492.211289.jpg',\n",
       " '/home/christoph/Desktop/zappos-ds/Keen/7814492.298819.jpg',\n",
       " '/home/christoph/Desktop/zappos-ds/Keen/7814492.326309.jpg',\n",
       " '/home/christoph/Desktop/zappos-ds/Keen/7814492.356116.jpg',\n",
       " '/home/christoph/Desktop/zappos-ds/Keen/7892339.326491.jpg',\n",
       " '/home/christoph/Desktop/zappos-ds/Keen/7892339.326495.jpg',\n",
       " '/home/christoph/Desktop/zappos-ds/Keen/7892339.356050.jpg',\n",
       " '/home/christoph/Desktop/zappos-ds/Macbeth/7810900.297932.jpg',\n",
       " '/home/christoph/Desktop/zappos-ds/Macbeth/7810900.34184.jpg',\n",
       " '/home/christoph/Desktop/zappos-ds/Macbeth/7810900.358862.jpg',\n",
       " '/home/christoph/Desktop/zappos-ds/Macbeth/7810900.67905.jpg',\n",
       " '/home/christoph/Desktop/zappos-ds/Macbeth/7810901.297932.jpg',\n",
       " '/home/christoph/Desktop/zappos-ds/Macbeth/7810901.358802.jpg',\n",
       " '/home/christoph/Desktop/zappos-ds/Macbeth/7910295.332287.jpg',\n",
       " '/home/christoph/Desktop/zappos-ds/Macbeth/7984514.67905.jpg',\n",
       " '/home/christoph/Desktop/zappos-ds/Macbeth/7984573.390336.jpg',\n",
       " '/home/christoph/Desktop/zappos-ds/Macbeth/7984812.358861.jpg',\n",
       " '/home/christoph/Desktop/zappos-ds/Morgan&Milo Kids/7849198.36297.jpg',\n",
       " '/home/christoph/Desktop/zappos-ds/Morgan&Milo Kids/7849221.36297.jpg',\n",
       " '/home/christoph/Desktop/zappos-ds/Morgan&Milo Kids/7945480.12883.jpg',\n",
       " '/home/christoph/Desktop/zappos-ds/Morgan&Milo Kids/7945565.18510.jpg',\n",
       " '/home/christoph/Desktop/zappos-ds/Morgan&Milo Kids/8018558.168015.jpg',\n",
       " '/home/christoph/Desktop/zappos-ds/Morgan&Milo Kids/8018558.233857.jpg',\n",
       " '/home/christoph/Desktop/zappos-ds/Morgan&Milo Kids/8018591.168015.jpg',\n",
       " '/home/christoph/Desktop/zappos-ds/Morgan&Milo Kids/8018599.18510.jpg',\n",
       " '/home/christoph/Desktop/zappos-ds/New Balance/7837814.6.jpg',\n",
       " '/home/christoph/Desktop/zappos-ds/New Balance/7837838.1412.jpg',\n",
       " '/home/christoph/Desktop/zappos-ds/New Balance/7837838.755.jpg',\n",
       " '/home/christoph/Desktop/zappos-ds/New Balance/7837853.136479.jpg',\n",
       " '/home/christoph/Desktop/zappos-ds/New Balance/7837853.223736.jpg',\n",
       " '/home/christoph/Desktop/zappos-ds/New Balance/7837853.425096.jpg',\n",
       " '/home/christoph/Desktop/zappos-ds/New Balance/7844484.151.jpg']"
      ]
     },
     "execution_count": 108,
     "metadata": {},
     "output_type": "execute_result"
    }
   ],
   "source": [
    "keys"
   ]
  },
  {
   "cell_type": "code",
   "execution_count": 113,
   "metadata": {},
   "outputs": [],
   "source": [
    "crazy = [\"/home/christoph/Desktop/zappos-ds/Amiana/8028479.372602.jpg\",\n",
    "\"/home/christoph/Desktop/zappos-ds/Morgan&Milo Kids/7849221.36297.jpg\",\n",
    "\"/home/christoph/Desktop/zappos-ds/New Balance/7837853.425096.jpg\",\n",
    "\"/home/christoph/Desktop/zappos-ds/New Balance/7837853.223736.jpg\",\n",
    "\"/home/christoph/Desktop/zappos-ds/Amiana/8028479.372601.jpg\"]"
   ]
  },
  {
   "cell_type": "code",
   "execution_count": null,
   "metadata": {},
   "outputs": [],
   "source": [
    "/home/christoph/Desktop/zappos-ds/Amiana/8028479.372602.jpg\n",
    "/home/christoph/Desktop/zappos-ds/Morgan&Milo Kids/7849221.36297.jpg\n",
    "/home/christoph/Desktop/zappos-ds/New Balance/7837853.425096.jpg\n",
    "/home/christoph/Desktop/zappos-ds/New Balance/7837853.223736.jpg\n",
    "/home/christoph/Desktop/zappos-ds/Amiana/8028479.372601.jpg"
   ]
  },
  {
   "cell_type": "code",
   "execution_count": 112,
   "metadata": {},
   "outputs": [
    {
     "name": "stdout",
     "output_type": "stream",
     "text": [
      "0 --- /home/christoph/Desktop/zappos-ds/Amiana/8028444.162714.jpg\n",
      "1 --- /home/christoph/Desktop/zappos-ds/Amiana/8028463.27549.jpg\n",
      "2 --- /home/christoph/Desktop/zappos-ds/Amiana/8028463.65215.jpg\n",
      "3 --- /home/christoph/Desktop/zappos-ds/Amiana/8028479.372601.jpg\n",
      "4 --- /home/christoph/Desktop/zappos-ds/Amiana/8028479.372602.jpg\n",
      "5 --- /home/christoph/Desktop/zappos-ds/Anne Klein/7870005.80.jpg\n",
      "6 --- /home/christoph/Desktop/zappos-ds/Arcopedico/8029325.3.jpg\n",
      "7 --- /home/christoph/Desktop/zappos-ds/Arcopedico/8029325.585.jpg\n",
      "8 --- /home/christoph/Desktop/zappos-ds/Capezio Kids/7138760.14.jpg\n",
      "9 --- /home/christoph/Desktop/zappos-ds/Capezio Kids/7138760.21891.jpg\n",
      "10 --- /home/christoph/Desktop/zappos-ds/Capezio Kids/7138760.3.jpg\n",
      "11 --- /home/christoph/Desktop/zappos-ds/Capezio Kids/7140341.72.jpg\n",
      "12 --- /home/christoph/Desktop/zappos-ds/Capezio Kids/7567987.3.jpg\n",
      "13 --- /home/christoph/Desktop/zappos-ds/Capezio Kids/7568334.263.jpg\n",
      "14 --- /home/christoph/Desktop/zappos-ds/Capezio Kids/7568335.263.jpg\n",
      "15 --- /home/christoph/Desktop/zappos-ds/Capezio Kids/7568335.3.jpg\n",
      "16 --- /home/christoph/Desktop/zappos-ds/Capezio Kids/7634569.14.jpg\n",
      "17 --- /home/christoph/Desktop/zappos-ds/Creative Recreation Kids/7779512.183092.jpg\n",
      "18 --- /home/christoph/Desktop/zappos-ds/Creative Recreation Kids/7815628.20451.jpg\n",
      "19 --- /home/christoph/Desktop/zappos-ds/Creative Recreation Kids/7815628.243460.jpg\n",
      "20 --- /home/christoph/Desktop/zappos-ds/Creative Recreation Kids/7815628.314458.jpg\n",
      "21 --- /home/christoph/Desktop/zappos-ds/Creative Recreation Kids/7815628.328479.jpg\n",
      "22 --- /home/christoph/Desktop/zappos-ds/Creative Recreation Kids/7815628.394023.jpg\n",
      "23 --- /home/christoph/Desktop/zappos-ds/Creative Recreation Kids/7815628.395151.jpg\n",
      "24 --- /home/christoph/Desktop/zappos-ds/Creative Recreation Kids/7815633.159595.jpg\n",
      "25 --- /home/christoph/Desktop/zappos-ds/Creative Recreation Kids/7815633.18581.jpg\n",
      "26 --- /home/christoph/Desktop/zappos-ds/DVS Shoe Company/7992237.27372.jpg\n",
      "27 --- /home/christoph/Desktop/zappos-ds/DVS Shoe Company/7992237.3449.jpg\n",
      "28 --- /home/christoph/Desktop/zappos-ds/DVS Shoe Company/7992237.5211.jpg\n",
      "29 --- /home/christoph/Desktop/zappos-ds/DVS Shoe Company/7992237.84.jpg\n",
      "30 --- /home/christoph/Desktop/zappos-ds/DVS Shoe Company/7992264.84.jpg\n",
      "31 --- /home/christoph/Desktop/zappos-ds/DVS Shoe Company/7992284.27372.jpg\n",
      "32 --- /home/christoph/Desktop/zappos-ds/DVS Shoe Company/7992284.361427.jpg\n",
      "33 --- /home/christoph/Desktop/zappos-ds/DVS Shoe Company/7992284.84.jpg\n",
      "34 --- /home/christoph/Desktop/zappos-ds/DVS Shoe Company/7992299.361419.jpg\n",
      "35 --- /home/christoph/Desktop/zappos-ds/DVS Shoe Company/7992299.670.jpg\n",
      "36 --- /home/christoph/Desktop/zappos-ds/Emerica/7967796.20422.jpg\n",
      "37 --- /home/christoph/Desktop/zappos-ds/Emerica/7967796.7446.jpg\n",
      "38 --- /home/christoph/Desktop/zappos-ds/Emerica/8031118.373675.jpg\n",
      "39 --- /home/christoph/Desktop/zappos-ds/Emerica/8031118.373676.jpg\n",
      "40 --- /home/christoph/Desktop/zappos-ds/Emerica/8031118.373677.jpg\n",
      "41 --- /home/christoph/Desktop/zappos-ds/Emerica/8031118.393052.jpg\n",
      "42 --- /home/christoph/Desktop/zappos-ds/Emerica/8081348.155.jpg\n",
      "43 --- /home/christoph/Desktop/zappos-ds/Heelys/7724899.265759.jpg\n",
      "44 --- /home/christoph/Desktop/zappos-ds/Heelys/7769259.144.jpg\n",
      "45 --- /home/christoph/Desktop/zappos-ds/Heelys/7769259.155.jpg\n",
      "46 --- /home/christoph/Desktop/zappos-ds/Heelys/7769259.298003.jpg\n",
      "47 --- /home/christoph/Desktop/zappos-ds/Heelys/7769260.12913.jpg\n",
      "48 --- /home/christoph/Desktop/zappos-ds/Heelys/7769260.21196.jpg\n",
      "49 --- /home/christoph/Desktop/zappos-ds/Heelys/7769260.331000.jpg\n",
      "50 --- /home/christoph/Desktop/zappos-ds/Heelys/7769261.12913.jpg\n",
      "51 --- /home/christoph/Desktop/zappos-ds/Heelys/7769261.144.jpg\n",
      "52 --- /home/christoph/Desktop/zappos-ds/Heelys/7769261.2971.jpg\n",
      "53 --- /home/christoph/Desktop/zappos-ds/Keen/7804786.241510.jpg\n",
      "54 --- /home/christoph/Desktop/zappos-ds/Keen/7814492.123681.jpg\n",
      "55 --- /home/christoph/Desktop/zappos-ds/Keen/7814492.211289.jpg\n",
      "56 --- /home/christoph/Desktop/zappos-ds/Keen/7814492.298819.jpg\n",
      "57 --- /home/christoph/Desktop/zappos-ds/Keen/7814492.326309.jpg\n",
      "58 --- /home/christoph/Desktop/zappos-ds/Keen/7814492.356116.jpg\n",
      "59 --- /home/christoph/Desktop/zappos-ds/Keen/7892339.326491.jpg\n",
      "60 --- /home/christoph/Desktop/zappos-ds/Keen/7892339.326495.jpg\n",
      "61 --- /home/christoph/Desktop/zappos-ds/Keen/7892339.356050.jpg\n",
      "62 --- /home/christoph/Desktop/zappos-ds/Macbeth/7810900.297932.jpg\n",
      "63 --- /home/christoph/Desktop/zappos-ds/Macbeth/7810900.34184.jpg\n",
      "64 --- /home/christoph/Desktop/zappos-ds/Macbeth/7810900.358862.jpg\n",
      "65 --- /home/christoph/Desktop/zappos-ds/Macbeth/7810900.67905.jpg\n",
      "66 --- /home/christoph/Desktop/zappos-ds/Macbeth/7810901.297932.jpg\n",
      "67 --- /home/christoph/Desktop/zappos-ds/Macbeth/7810901.358802.jpg\n",
      "68 --- /home/christoph/Desktop/zappos-ds/Macbeth/7910295.332287.jpg\n",
      "69 --- /home/christoph/Desktop/zappos-ds/Macbeth/7984514.67905.jpg\n",
      "70 --- /home/christoph/Desktop/zappos-ds/Macbeth/7984573.390336.jpg\n",
      "71 --- /home/christoph/Desktop/zappos-ds/Macbeth/7984812.358861.jpg\n",
      "72 --- /home/christoph/Desktop/zappos-ds/Morgan&Milo Kids/7849198.36297.jpg\n",
      "73 --- /home/christoph/Desktop/zappos-ds/Morgan&Milo Kids/7849221.36297.jpg\n",
      "74 --- /home/christoph/Desktop/zappos-ds/Morgan&Milo Kids/7945480.12883.jpg\n",
      "75 --- /home/christoph/Desktop/zappos-ds/Morgan&Milo Kids/7945565.18510.jpg\n",
      "76 --- /home/christoph/Desktop/zappos-ds/Morgan&Milo Kids/8018558.168015.jpg\n",
      "77 --- /home/christoph/Desktop/zappos-ds/Morgan&Milo Kids/8018558.233857.jpg\n",
      "78 --- /home/christoph/Desktop/zappos-ds/Morgan&Milo Kids/8018591.168015.jpg\n",
      "79 --- /home/christoph/Desktop/zappos-ds/Morgan&Milo Kids/8018599.18510.jpg\n",
      "80 --- /home/christoph/Desktop/zappos-ds/New Balance/7837814.6.jpg\n",
      "81 --- /home/christoph/Desktop/zappos-ds/New Balance/7837838.1412.jpg\n",
      "82 --- /home/christoph/Desktop/zappos-ds/New Balance/7837838.755.jpg\n",
      "83 --- /home/christoph/Desktop/zappos-ds/New Balance/7837853.136479.jpg\n",
      "84 --- /home/christoph/Desktop/zappos-ds/New Balance/7837853.223736.jpg\n",
      "85 --- /home/christoph/Desktop/zappos-ds/New Balance/7837853.425096.jpg\n",
      "86 --- /home/christoph/Desktop/zappos-ds/New Balance/7844484.151.jpg\n"
     ]
    }
   ],
   "source": [
    "import shutil\n",
    "for i, k in enumerate(keys):\n",
    "    print(str(i) + \" --- \" + k)\n",
    "    # shutil.copy2(k, '/home/christoph/Desktop/imgdb2/{}.jpg'.format(k))"
   ]
  },
  {
   "cell_type": "code",
   "execution_count": 72,
   "metadata": {},
   "outputs": [],
   "source": [
    "brands = [\"Adidos\", \"Naike\", \"Timmy\", \"Vens\", \"Bagutti\", \"Croocs\", \"Elment\", \"Gabur\", \"Locaste\", \"N90\"]\n",
    "names = [\"Knights\", \"Square\", \"Trainers\", \"Skool\", \"Tanjun\", \"Cogna\", \"Court\", \"Winston\", \"Oxford\", \"T70\"]"
   ]
  },
  {
   "cell_type": "code",
   "execution_count": 73,
   "metadata": {},
   "outputs": [
    {
     "data": {
      "text/plain": [
       "10"
      ]
     },
     "execution_count": 73,
     "metadata": {},
     "output_type": "execute_result"
    }
   ],
   "source": [
    "len(names)"
   ]
  },
  {
   "cell_type": "code",
   "execution_count": 81,
   "metadata": {},
   "outputs": [
    {
     "data": {
      "text/plain": [
       "52.99"
      ]
     },
     "execution_count": 81,
     "metadata": {},
     "output_type": "execute_result"
    }
   ],
   "source": [
    "fl = random.uniform(10., 150.)\n",
    "round(fl, 0) + .99"
   ]
  },
  {
   "cell_type": "code",
   "execution_count": 82,
   "metadata": {},
   "outputs": [
    {
     "ename": "NameError",
     "evalue": "name '_id' is not defined",
     "output_type": "error",
     "traceback": [
      "\u001b[0;31m---------------------------------------------------------------------------\u001b[0m",
      "\u001b[0;31mNameError\u001b[0m                                 Traceback (most recent call last)",
      "\u001b[0;32m<ipython-input-82-7edef94d0aea>\u001b[0m in \u001b[0;36m<module>\u001b[0;34m\u001b[0m\n\u001b[1;32m      1\u001b[0m {\n\u001b[0;32m----> 2\u001b[0;31m     \u001b[0m_id\u001b[0m\u001b[0;34m:\u001b[0m \u001b[0;34m\"0\"\u001b[0m\u001b[0;34m,\u001b[0m\u001b[0;34m\u001b[0m\u001b[0;34m\u001b[0m\u001b[0m\n\u001b[0m\u001b[1;32m      3\u001b[0m     \u001b[0mname\u001b[0m\u001b[0;34m:\u001b[0m \u001b[0;34m\"Nik Ir\"\u001b[0m\u001b[0;34m,\u001b[0m\u001b[0;34m\u001b[0m\u001b[0;34m\u001b[0m\u001b[0m\n\u001b[1;32m      4\u001b[0m     \u001b[0mprice\u001b[0m\u001b[0;34m:\u001b[0m \u001b[0;36m89.99\u001b[0m\u001b[0;34m,\u001b[0m\u001b[0;34m\u001b[0m\u001b[0;34m\u001b[0m\u001b[0m\n\u001b[1;32m      5\u001b[0m     \u001b[0mrating\u001b[0m\u001b[0;34m:\u001b[0m \u001b[0;36m4.5\u001b[0m\u001b[0;34m,\u001b[0m\u001b[0;34m\u001b[0m\u001b[0;34m\u001b[0m\u001b[0m\n",
      "\u001b[0;31mNameError\u001b[0m: name '_id' is not defined"
     ]
    }
   ],
   "source": [
    "{\n",
    "    _id: \"0\",\n",
    "    name: \"Nik Ir\",\n",
    "    price: 89.99,\n",
    "    rating: 4.5,\n",
    "    image: \"/images/0.jpg\",\n",
    "},"
   ]
  },
  {
   "cell_type": "code",
   "execution_count": 49,
   "metadata": {},
   "outputs": [],
   "source": [
    "f = open(\"/home/christoph/Desktop/write.txt\", \"w\")\n",
    "for i, e in enumerate(keys):\n",
    "    f.write(\"import img{} from \\\"../assets/other_imgs/imgdb/{}.jpg\\\";\\n\".format(i,i))\n",
    "\n",
    "base = \"[\"\n",
    "for i in range(len(keys)):\n",
    "    base = base + \"img{}\".format(i) + \",\"\n",
    "base = base + \"]\"\n",
    "f.write(base)    \n",
    "f.close()"
   ]
  },
  {
   "cell_type": "code",
   "execution_count": 2,
   "metadata": {},
   "outputs": [],
   "source": [
    "f = open(\"/home/christoph/Desktop/imgDB.txt\", \"r\")\n",
    "# print(f.read())"
   ]
  },
  {
   "cell_type": "code",
   "execution_count": 53,
   "metadata": {},
   "outputs": [
    {
     "data": {
      "text/plain": [
       "87"
      ]
     },
     "execution_count": 53,
     "metadata": {},
     "output_type": "execute_result"
    }
   ],
   "source": [
    "with open('/home/christoph/Desktop/shoes.json', \"r\") as f:\n",
    "    kset = json.loads(f.read())\n",
    "len(kset)"
   ]
  },
  {
   "cell_type": "code",
   "execution_count": null,
   "metadata": {},
   "outputs": [],
   "source": []
  },
  {
   "cell_type": "code",
   "execution_count": 61,
   "metadata": {},
   "outputs": [],
   "source": [
    "vals = list(kset.values())"
   ]
  },
  {
   "cell_type": "code",
   "execution_count": 64,
   "metadata": {},
   "outputs": [],
   "source": [
    "kset_m = {}\n",
    "for i in range(len(kset)):\n",
    "    kset_m[i] = vals[i]"
   ]
  },
  {
   "cell_type": "code",
   "execution_count": 66,
   "metadata": {},
   "outputs": [],
   "source": [
    "with open('/home/christoph/Desktop/scoords.json', 'w') as f:\n",
    "    json.dump(kset_m, f)"
   ]
  },
  {
   "cell_type": "code",
   "execution_count": 69,
   "metadata": {},
   "outputs": [
    {
     "data": {
      "text/plain": [
       "[68, 86]"
      ]
     },
     "execution_count": 69,
     "metadata": {},
     "output_type": "execute_result"
    }
   ],
   "source": [
    "import random"
   ]
  },
  {
   "cell_type": "code",
   "execution_count": 87,
   "metadata": {},
   "outputs": [
    {
     "data": {
      "text/plain": [
       "2.6"
      ]
     },
     "execution_count": 87,
     "metadata": {},
     "output_type": "execute_result"
    }
   ],
   "source": [
    "rat = random.uniform(2., 5.)\n",
    "round(rat, 1) "
   ]
  },
  {
   "cell_type": "code",
   "execution_count": null,
   "metadata": {},
   "outputs": [],
   "source": [
    "# .format(str_index, final_name, price, rat, index)"
   ]
  },
  {
   "cell_type": "code",
   "execution_count": 107,
   "metadata": {},
   "outputs": [],
   "source": [
    "f = open(\"/home/christoph/Desktop/prods.txt\", \"w\")\n",
    "for i in range(87):\n",
    "    index = i\n",
    "    str_index = str(index)\n",
    "    seed1 = random.randint(0,9)\n",
    "    seed2 = random.randint(0,9)\n",
    "    brand_tmp = brands[seed1]\n",
    "    name_tmp = names[seed2]\n",
    "    final_name = brand_tmp + \" \" + name_tmp\n",
    "    price = random.uniform(10., 150.)\n",
    "    price = round(price, 0) + .99\n",
    "    rat = random.uniform(2., 5.)\n",
    "    rat = round(rat, 1) \n",
    "    \n",
    "    out = \"{{\\n_id: \\\"{0}\\\",\\nname: \\\"{1}\\\",\\nprice: {2},\\nrating: {3},\\nimage: \\\"/images/{4}.jpg\\\",\\n}},\".format(str_index, final_name, price, rat ,index)\n",
    "    \n",
    "    f.write(out)\n",
    " \n",
    "f.close()\n",
    "    "
   ]
  },
  {
   "cell_type": "code",
   "execution_count": null,
   "metadata": {},
   "outputs": [],
   "source": []
  },
  {
   "cell_type": "code",
   "execution_count": null,
   "metadata": {},
   "outputs": [],
   "source": []
  },
  {
   "cell_type": "code",
   "execution_count": null,
   "metadata": {},
   "outputs": [],
   "source": []
  },
  {
   "cell_type": "code",
   "execution_count": 145,
   "metadata": {},
   "outputs": [
    {
     "data": {
      "text/plain": [
       "['/home/christoph/Desktop/zappos-ds/Amiana/8028444.162714.jpg',\n",
       " '/home/christoph/Desktop/zappos-ds/Amiana/8028463.27549.jpg',\n",
       " '/home/christoph/Desktop/zappos-ds/Amiana/8028463.65215.jpg',\n",
       " '/home/christoph/Desktop/zappos-ds/Amiana/8028479.372601.jpg',\n",
       " '/home/christoph/Desktop/zappos-ds/Amiana/8028479.372602.jpg',\n",
       " '/home/christoph/Desktop/zappos-ds/Anne Klein/7870005.80.jpg',\n",
       " '/home/christoph/Desktop/zappos-ds/Arcopedico/8029325.3.jpg',\n",
       " '/home/christoph/Desktop/zappos-ds/Arcopedico/8029325.585.jpg',\n",
       " '/home/christoph/Desktop/zappos-ds/Capezio Kids/7138760.14.jpg',\n",
       " '/home/christoph/Desktop/zappos-ds/Capezio Kids/7138760.21891.jpg',\n",
       " '/home/christoph/Desktop/zappos-ds/Capezio Kids/7138760.3.jpg',\n",
       " '/home/christoph/Desktop/zappos-ds/Capezio Kids/7140341.72.jpg',\n",
       " '/home/christoph/Desktop/zappos-ds/Capezio Kids/7567987.3.jpg',\n",
       " '/home/christoph/Desktop/zappos-ds/Capezio Kids/7568334.263.jpg',\n",
       " '/home/christoph/Desktop/zappos-ds/Capezio Kids/7568335.263.jpg',\n",
       " '/home/christoph/Desktop/zappos-ds/Capezio Kids/7568335.3.jpg',\n",
       " '/home/christoph/Desktop/zappos-ds/Capezio Kids/7634569.14.jpg',\n",
       " '/home/christoph/Desktop/zappos-ds/Creative Recreation Kids/7779512.183092.jpg',\n",
       " '/home/christoph/Desktop/zappos-ds/Creative Recreation Kids/7815628.20451.jpg',\n",
       " '/home/christoph/Desktop/zappos-ds/Creative Recreation Kids/7815628.243460.jpg',\n",
       " '/home/christoph/Desktop/zappos-ds/Creative Recreation Kids/7815628.314458.jpg',\n",
       " '/home/christoph/Desktop/zappos-ds/Creative Recreation Kids/7815628.328479.jpg',\n",
       " '/home/christoph/Desktop/zappos-ds/Creative Recreation Kids/7815628.394023.jpg',\n",
       " '/home/christoph/Desktop/zappos-ds/Creative Recreation Kids/7815628.395151.jpg',\n",
       " '/home/christoph/Desktop/zappos-ds/Creative Recreation Kids/7815633.159595.jpg',\n",
       " '/home/christoph/Desktop/zappos-ds/Creative Recreation Kids/7815633.18581.jpg',\n",
       " '/home/christoph/Desktop/zappos-ds/DVS Shoe Company/7992237.27372.jpg',\n",
       " '/home/christoph/Desktop/zappos-ds/DVS Shoe Company/7992237.3449.jpg',\n",
       " '/home/christoph/Desktop/zappos-ds/DVS Shoe Company/7992237.5211.jpg',\n",
       " '/home/christoph/Desktop/zappos-ds/DVS Shoe Company/7992237.84.jpg',\n",
       " '/home/christoph/Desktop/zappos-ds/DVS Shoe Company/7992264.84.jpg',\n",
       " '/home/christoph/Desktop/zappos-ds/DVS Shoe Company/7992284.27372.jpg',\n",
       " '/home/christoph/Desktop/zappos-ds/DVS Shoe Company/7992284.361427.jpg',\n",
       " '/home/christoph/Desktop/zappos-ds/DVS Shoe Company/7992284.84.jpg',\n",
       " '/home/christoph/Desktop/zappos-ds/DVS Shoe Company/7992299.361419.jpg',\n",
       " '/home/christoph/Desktop/zappos-ds/DVS Shoe Company/7992299.670.jpg',\n",
       " '/home/christoph/Desktop/zappos-ds/Emerica/7967796.20422.jpg',\n",
       " '/home/christoph/Desktop/zappos-ds/Emerica/7967796.7446.jpg',\n",
       " '/home/christoph/Desktop/zappos-ds/Emerica/8031118.373675.jpg',\n",
       " '/home/christoph/Desktop/zappos-ds/Emerica/8031118.373676.jpg',\n",
       " '/home/christoph/Desktop/zappos-ds/Emerica/8031118.373677.jpg',\n",
       " '/home/christoph/Desktop/zappos-ds/Emerica/8031118.393052.jpg',\n",
       " '/home/christoph/Desktop/zappos-ds/Emerica/8081348.155.jpg',\n",
       " '/home/christoph/Desktop/zappos-ds/Heelys/7724899.265759.jpg',\n",
       " '/home/christoph/Desktop/zappos-ds/Heelys/7769259.144.jpg',\n",
       " '/home/christoph/Desktop/zappos-ds/Heelys/7769259.155.jpg',\n",
       " '/home/christoph/Desktop/zappos-ds/Heelys/7769259.298003.jpg',\n",
       " '/home/christoph/Desktop/zappos-ds/Heelys/7769260.12913.jpg',\n",
       " '/home/christoph/Desktop/zappos-ds/Heelys/7769260.21196.jpg',\n",
       " '/home/christoph/Desktop/zappos-ds/Heelys/7769260.331000.jpg',\n",
       " '/home/christoph/Desktop/zappos-ds/Heelys/7769261.12913.jpg',\n",
       " '/home/christoph/Desktop/zappos-ds/Heelys/7769261.144.jpg',\n",
       " '/home/christoph/Desktop/zappos-ds/Heelys/7769261.2971.jpg',\n",
       " '/home/christoph/Desktop/zappos-ds/Keen/7804786.241510.jpg',\n",
       " '/home/christoph/Desktop/zappos-ds/Keen/7814492.123681.jpg',\n",
       " '/home/christoph/Desktop/zappos-ds/Keen/7814492.211289.jpg',\n",
       " '/home/christoph/Desktop/zappos-ds/Keen/7814492.298819.jpg',\n",
       " '/home/christoph/Desktop/zappos-ds/Keen/7814492.326309.jpg',\n",
       " '/home/christoph/Desktop/zappos-ds/Keen/7814492.356116.jpg',\n",
       " '/home/christoph/Desktop/zappos-ds/Keen/7892339.326491.jpg',\n",
       " '/home/christoph/Desktop/zappos-ds/Keen/7892339.326495.jpg',\n",
       " '/home/christoph/Desktop/zappos-ds/Keen/7892339.356050.jpg',\n",
       " '/home/christoph/Desktop/zappos-ds/Macbeth/7810900.297932.jpg',\n",
       " '/home/christoph/Desktop/zappos-ds/Macbeth/7810900.34184.jpg',\n",
       " '/home/christoph/Desktop/zappos-ds/Macbeth/7810900.358862.jpg',\n",
       " '/home/christoph/Desktop/zappos-ds/Macbeth/7810900.67905.jpg',\n",
       " '/home/christoph/Desktop/zappos-ds/Macbeth/7810901.297932.jpg',\n",
       " '/home/christoph/Desktop/zappos-ds/Macbeth/7810901.358802.jpg',\n",
       " '/home/christoph/Desktop/zappos-ds/Macbeth/7910295.332287.jpg',\n",
       " '/home/christoph/Desktop/zappos-ds/Macbeth/7984514.67905.jpg',\n",
       " '/home/christoph/Desktop/zappos-ds/Macbeth/7984573.390336.jpg',\n",
       " '/home/christoph/Desktop/zappos-ds/Macbeth/7984812.358861.jpg',\n",
       " '/home/christoph/Desktop/zappos-ds/Morgan&Milo Kids/7849198.36297.jpg',\n",
       " '/home/christoph/Desktop/zappos-ds/Morgan&Milo Kids/7849221.36297.jpg',\n",
       " '/home/christoph/Desktop/zappos-ds/Morgan&Milo Kids/7945480.12883.jpg',\n",
       " '/home/christoph/Desktop/zappos-ds/Morgan&Milo Kids/7945565.18510.jpg',\n",
       " '/home/christoph/Desktop/zappos-ds/Morgan&Milo Kids/8018558.168015.jpg',\n",
       " '/home/christoph/Desktop/zappos-ds/Morgan&Milo Kids/8018558.233857.jpg',\n",
       " '/home/christoph/Desktop/zappos-ds/Morgan&Milo Kids/8018591.168015.jpg',\n",
       " '/home/christoph/Desktop/zappos-ds/Morgan&Milo Kids/8018599.18510.jpg',\n",
       " '/home/christoph/Desktop/zappos-ds/New Balance/7837814.6.jpg',\n",
       " '/home/christoph/Desktop/zappos-ds/New Balance/7837838.1412.jpg',\n",
       " '/home/christoph/Desktop/zappos-ds/New Balance/7837838.755.jpg',\n",
       " '/home/christoph/Desktop/zappos-ds/New Balance/7837853.136479.jpg',\n",
       " '/home/christoph/Desktop/zappos-ds/New Balance/7837853.223736.jpg',\n",
       " '/home/christoph/Desktop/zappos-ds/New Balance/7837853.425096.jpg',\n",
       " '/home/christoph/Desktop/zappos-ds/New Balance/7844484.151.jpg']"
      ]
     },
     "execution_count": 145,
     "metadata": {},
     "output_type": "execute_result"
    }
   ],
   "source": [
    "keys"
   ]
  },
  {
   "cell_type": "code",
   "execution_count": 149,
   "metadata": {},
   "outputs": [],
   "source": [
    "feats = {}\n",
    "for i, k in enumerate(keys):\n",
    "    feats[i] = extract_features(k, model)"
   ]
  },
  {
   "cell_type": "code",
   "execution_count": 157,
   "metadata": {},
   "outputs": [],
   "source": [
    "with open('/home/christoph/Desktop/86feats.npy', 'wb') as f:\n",
    "    np.save(f, feats)"
   ]
  },
  {
   "cell_type": "code",
   "execution_count": 160,
   "metadata": {},
   "outputs": [
    {
     "data": {
      "text/plain": [
       "()"
      ]
     },
     "execution_count": 160,
     "metadata": {},
     "output_type": "execute_result"
    }
   ],
   "source": [
    "with open('/home/christoph/Desktop/86feats.npy', 'rb') as f:\n",
    "    f2 = np.load(f, allow_pickle=True)\n",
    "f2.shape"
   ]
  },
  {
   "cell_type": "code",
   "execution_count": 171,
   "metadata": {},
   "outputs": [],
   "source": [
    "d = dict(enumerate(f2.flatten(), 1))"
   ]
  },
  {
   "cell_type": "code",
   "execution_count": 182,
   "metadata": {},
   "outputs": [],
   "source": [
    "f1 = d[1][44]"
   ]
  },
  {
   "cell_type": "code",
   "execution_count": 198,
   "metadata": {},
   "outputs": [],
   "source": [
    "ff = [1,2,3,5,6,7,8,9,0]"
   ]
  },
  {
   "cell_type": "code",
   "execution_count": 201,
   "metadata": {},
   "outputs": [
    {
     "data": {
      "text/plain": [
       "[44, 51, 49, 47, 45]"
      ]
     },
     "execution_count": 201,
     "metadata": {},
     "output_type": "execute_result"
    }
   ],
   "source": [
    "min_idx = []\n",
    "for i in range(5):\n",
    "    orig_mins = min(dis)\n",
    "    new_idx = dis.index(orig_mins)\n",
    "    min_idx.append(new_idx)\n",
    "    dis[new_idx] = 99999\n",
    "\n",
    "min_idx"
   ]
  },
  {
   "cell_type": "code",
   "execution_count": 187,
   "metadata": {
    "scrolled": true
   },
   "outputs": [
    {
     "name": "stdout",
     "output_type": "stream",
     "text": [
      "0: 1.1393498\n",
      "1: 1.2431211\n",
      "2: 1.2788113\n",
      "3: 1.1736054\n",
      "4: 1.2304013\n",
      "5: 1.0590578\n",
      "6: 1.1985087\n",
      "7: 1.0973387\n",
      "8: 1.2571864\n",
      "9: 1.3016319\n",
      "10: 1.1431768\n",
      "11: 1.1282208\n",
      "12: 1.2772188\n",
      "13: 1.1865429\n",
      "14: 1.2590383\n",
      "15: 1.1762768\n",
      "16: 1.2007775\n",
      "17: 1.0800357\n",
      "18: 1.1046511\n",
      "19: 0.9883193\n",
      "20: 1.1351568\n",
      "21: 1.0828323\n",
      "22: 1.1377741\n",
      "23: 1.2197621\n",
      "24: 1.2204084\n",
      "25: 1.167454\n",
      "26: 1.1569047\n",
      "27: 1.0991366\n",
      "28: 1.0817161\n",
      "29: 1.0609351\n",
      "30: 1.1133188\n",
      "31: 1.1088319\n",
      "32: 1.1113843\n",
      "33: 1.1201744\n",
      "34: 1.1642817\n",
      "35: 1.1720054\n",
      "36: 1.2482187\n",
      "37: 1.0627726\n",
      "38: 1.1119853\n",
      "39: 1.1944551\n",
      "40: 1.1546706\n",
      "41: 1.1445106\n",
      "42: 1.1536403\n",
      "43: 1.1740773\n",
      "44: 0.0\n",
      "45: 0.8336205\n",
      "46: 0.9798898\n",
      "47: 0.82521236\n",
      "48: 0.8564923\n",
      "49: 0.76896244\n",
      "50: 1.0395273\n",
      "51: 0.7250159\n",
      "52: 0.99936867\n",
      "53: 1.1580211\n",
      "54: 1.1174557\n"
     ]
    }
   ],
   "source": [
    "dis = []\n",
    "for i in range(55):\n",
    "    distance = np.linalg.norm(f1 - d[1][i])\n",
    "    dis.append(distance)\n",
    "    # print(str(i) + \": \" + str(distance))"
   ]
  },
  {
   "cell_type": "code",
   "execution_count": null,
   "metadata": {},
   "outputs": [],
   "source": []
  }
 ],
 "metadata": {
  "kernelspec": {
   "display_name": "Python 3",
   "language": "python",
   "name": "python3"
  },
  "language_info": {
   "codemirror_mode": {
    "name": "ipython",
    "version": 3
   },
   "file_extension": ".py",
   "mimetype": "text/x-python",
   "name": "python",
   "nbconvert_exporter": "python",
   "pygments_lexer": "ipython3",
   "version": "3.7.6"
  }
 },
 "nbformat": 4,
 "nbformat_minor": 4
}
